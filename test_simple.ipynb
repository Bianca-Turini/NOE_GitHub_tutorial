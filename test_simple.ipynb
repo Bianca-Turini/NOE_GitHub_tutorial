{
  "cells": [
    {
      "cell_type": "markdown",
      "metadata": {},
      "source": [
        "# Simple Test Notebook\n",
        "\n",
        "This is a test to see if you can edit notebooks.\n",
        "\n",
        "**Can you see this text?**\n"
      ]
    },
    {
      "cell_type": "code",
      "execution_count": null,
      "metadata": {},
      "outputs": [],
      "source": [
        "print(\"Hello! Can you edit this cell?\")\n",
        "print(\"Try changing this text!\")\n"
      ]
    }
  ],
  "metadata": {
    "language_info": {
      "name": "python"
    }
  },
  "nbformat": 4,
  "nbformat_minor": 2
}
